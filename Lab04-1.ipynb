{
 "cells": [
  {
   "cell_type": "markdown",
   "metadata": {
    "dotnet_interactive": {
     "language": "csharp"
    },
    "polyglot_notebook": {
     "kernelName": "csharp"
    }
   },
   "source": [
    "# Lab 4.1 เริ่มต้นใช้งาน Mermaid โดยการวาด flowchart"
   ]
  },
  {
   "cell_type": "markdown",
   "metadata": {},
   "source": [
    "## 4.1.1 องค์ประกอบต่างๆ ของการวาด flowchart "
   ]
  },
  {
   "cell_type": "markdown",
   "metadata": {},
   "source": [
    "ศึกษาจากตัวอย่างแผนภาพอย่างง่ายต่อไปนี้ โดยการรัน code cell ด้านล่างนี้ (โดยการเข้าไปใน cell แล้วกด Ctrl+Enter) \n",
    "\n",
    "__หมายเหตุ__ นักศึกษาสามารถล้างผลการรันทั้งหมดได้โดยการกดปุ่ม _Clear All Outputs_  ที่ด้านบนของเอกสาร \n"
   ]
  },
  {
   "cell_type": "code",
   "execution_count": null,
   "metadata": {
    "dotnet_interactive": {
     "language": "mermaid"
    },
    "polyglot_notebook": {
     "kernelName": "mermaid"
    }
   },
   "outputs": [
    {
     "data": {
      "text/html": [
       "<div class=\"mermaidMarkdownContainer\" style=\"background-color:white\">\r\n",
       "<link rel=\"stylesheet\" href=\"https://cdnjs.cloudflare.com/ajax/libs/font-awesome/6.2.0/css/all.min.css\">\r\n",
       "<div id=\"2988d48099a74611ab1abc0311ecf7ea\"></div>\r\n",
       "<script type=\"module\">\r\n",
       "\r\n",
       "            import mermaid from 'https://cdn.jsdelivr.net/npm/mermaid@10.6.1/dist/mermaid.esm.min.mjs';\r\n",
       "            let renderTarget = document.getElementById('2988d48099a74611ab1abc0311ecf7ea');\r\n",
       "            try {\r\n",
       "                const {svg, bindFunctions} = await mermaid.mermaidAPI.render( \r\n",
       "                    'mermaid_2988d48099a74611ab1abc0311ecf7ea', \r\n",
       "                    `> %% Example 1. Flow chart\r\n",
       "> flowchart TD\r\n",
       ">    A[Start] --> B{Today = Workday}\r\n",
       ">    B -- Yes --> C[Goto school]\r\n",
       ">    B -- No --> D[Goto picnic]\r\n",
       ">    C --> E[Back to home]\r\n",
       ">    D --> E\r\n",
       ">    E --> F[End]`);\r\n",
       "                renderTarget.innerHTML = svg;\r\n",
       "                bindFunctions?.(renderTarget);\r\n",
       "            }\r\n",
       "            catch (error) {\r\n",
       "                console.log(error);\r\n",
       "            }\r\n",
       "</script>\r\n",
       "</div>\r\n"
      ]
     },
     "metadata": {},
     "output_type": "display_data"
    }
   ],
   "source": [
    "%% Example 1. Flow chart\n",
    "flowchart TD\n",
    "    A[Start] --> B{Today = Workday}\n",
    "    B -- Yes --> C[Goto school]\n",
    "    B -- No --> D[Goto picnic]\n",
    "    C --> E[Back to home]\n",
    "    D --> E\n",
    "    E --> F[End]"
   ]
  },
  {
   "cell_type": "markdown",
   "metadata": {},
   "source": [
    "### อธิบาย Code ตามรูปแบบสัญลักษณ์ที่ปรากฏใน code\n",
    "จาก code และรูปที่ได้จากการรัน สามารถอธิบายส่วนต่างๆ ตามไวยากรณ์ได้ดังนี้\n",
    "\n",
    "1. `flowchart TD` ป็นคำสั่งที่ใช้ในการสร้าง แผนภูมิลำดับขั้นตอน (flowchart) ที่มีทิศทางจาก บนลงล่าง (top-down)\n",
    "2. `A[start]` เป็นการกำหนดโหนด A ที่มีลักษณะเป็นกล่องสี่เหลี่ยม มีคำว่า Start อยู่ด้านใน\n",
    "3. `-->` เป็นการระบุว่าลากเส้นลูกศรจากโหนด A ไปโหนด B\n",
    "4. `B{Today = Workday}` เป็นการสร้างโหนด B ซึ่งเป็นบล็อกของการตัดสินใจ\n",
    "5. `-- Yes --> หรือ -- NO -->` เป็นการลากเส้นลูกศรที่มีข้อความ Yes หรือ No กำกับ"
   ]
  },
  {
   "cell_type": "markdown",
   "metadata": {},
   "source": [
    "คักลอก code จากตัวอย่าง Example 1 มาไว้ในพื้นที่แก้ไข code ด้านล่าง แล้วแก้ไข code ตามนี้\n",
    "> ```diff\n",
    "> - flowchart TD\n",
    "> + flowchart LR\n",
    "> ```"
   ]
  },
  {
   "cell_type": "markdown",
   "metadata": {},
   "source": [
    "_หมายเหตุ_ จากคำสั่งด้านบน หมายความว่า ให้ลบบรรทัด flowchart TD แล้วเพิ่ม flowchart LR ที่ตำแหน่งเดิม \n",
    "\n",
    "หมายถึงการแก้ไขบรรทัดนั้นจาก flowchart TD เป็น flowchart LR นั่นเอง\n",
    "\n",
    "ซึ่งเป็นรูปแบบของการระบุการเปลี่ยนแปลงเนื้อหาใน git"
   ]
  },
  {
   "cell_type": "code",
   "execution_count": null,
   "metadata": {
    "dotnet_interactive": {
     "language": "csharp"
    },
    "polyglot_notebook": {
     "kernelName": "csharp"
    }
   },
   "outputs": [],
   "source": [
    "%% พื้นที่แก้ไข code"
   ]
  },
  {
   "cell_type": "markdown",
   "metadata": {},
   "source": [
    "หมายเหตุ ถ้ารันไม่ได้ หรือมี error เช่นในลักษณะนี้\n",
    "> ```\n",
    "> Error: (1,1): error CS1525: Invalid expression term '%'\n",
    "> (1,2): error CS1525: Invalid expression term '%'\n",
    "> (1,17): error CS1002: ; expected\n",
    "> ```\n",
    "\n",
    "ปัญหาเกิดจากการเลือกภาษาเป็น csharp ให้คลิกเลือกภาษาจากมุมขวาล่างของ code cell โดยเปลี่ยนเป็นภาษา mermaid"
   ]
  },
  {
   "cell_type": "markdown",
   "metadata": {},
   "source": [
    "#### คำถาม\n",
    "\n",
    "1. บรรทัดที่ขึ้นต้นด้วย %% มีการแแสดงผลที่ output หรือไม่ ถ้ามี จะแสดงอย่างไร\n",
    "2. บอกข้อแตกต่างระหว่าง flowchart TD และ flowchart LR\n"
   ]
  },
  {
   "cell_type": "markdown",
   "metadata": {},
   "source": [
    "---"
   ]
  },
  {
   "cell_type": "markdown",
   "metadata": {},
   "source": [
    "## Flowcharts - Basic Syntax"
   ]
  },
  {
   "cell_type": "markdown",
   "metadata": {},
   "source": [
    "#### 1 Node"
   ]
  },
  {
   "cell_type": "markdown",
   "metadata": {},
   "source": [
    "รัน code cell ด้านล่าง เพื่อดูผลที่ได้ และตอบคำถาม"
   ]
  },
  {
   "cell_type": "markdown",
   "metadata": {},
   "source": [
    "_Example 2_"
   ]
  },
  {
   "cell_type": "code",
   "execution_count": null,
   "metadata": {
    "dotnet_interactive": {
     "language": "mermaid"
    },
    "polyglot_notebook": {
     "kernelName": "mermaid"
    }
   },
   "outputs": [],
   "source": [
    "---\n",
    "title: Node\n",
    "---\n",
    "flowchart LR\n",
    "    id"
   ]
  },
  {
   "cell_type": "markdown",
   "metadata": {},
   "source": [
    "__คำถาม__\n",
    "\n",
    "1. ข้อความต่อไปนี้คืออะไร มีการแสดงที่ output หรือไม่ \n",
    "> ```\n",
    "> ---\n",
    "> title: Node\n",
    "> ---\n",
    "> ```\n",
    "\n",
    "2. ข้อความ id มีการแสดงนำไปแสดงผลที่ output หรือไม่ แสดงเป็นอะไร "
   ]
  },
  {
   "cell_type": "markdown",
   "metadata": {},
   "source": [
    "---"
   ]
  },
  {
   "cell_type": "markdown",
   "metadata": {},
   "source": [
    "#### 2. Node ที่มีข้อความกำกับ"
   ]
  },
  {
   "cell_type": "markdown",
   "metadata": {},
   "source": [
    "จาก Example 2 ให้แก้ข้อความดังนี้\n",
    "> ```diff\n",
    "> ---\n",
    "> title: Node\n",
    "> ---\n",
    "> flowchart LR\n",
    "> -    id\n",
    "> +    id[Happy New Year] \n",
    "> ```    "
   ]
  },
  {
   "cell_type": "code",
   "execution_count": null,
   "metadata": {
    "dotnet_interactive": {
     "language": "mermaid"
    },
    "polyglot_notebook": {
     "kernelName": "mermaid"
    }
   },
   "outputs": [],
   "source": [
    "พื้นที่เขียน code"
   ]
  },
  {
   "cell_type": "markdown",
   "metadata": {},
   "source": [
    "จาก code ด้านบน  ให้แก้เป็นดังต่อไปนี้\n",
    "> ```diff\n",
    "> ---\n",
    "> title: Node\n",
    "> ---\n",
    "> flowchart LR\n",
    "> -    id[Happy New Year] \n",
    "> +    id [Happy New Year] \n",
    "> ``` "
   ]
  },
  {
   "cell_type": "code",
   "execution_count": null,
   "metadata": {
    "dotnet_interactive": {
     "language": "mermaid"
    },
    "polyglot_notebook": {
     "kernelName": "mermaid"
    }
   },
   "outputs": [],
   "source": [
    "พื้นที่เขียน code"
   ]
  },
  {
   "cell_type": "markdown",
   "metadata": {},
   "source": [
    "__คำถาม__\n",
    "\n",
    "เมื่อรัน code cell ด้านบน ผลที่ได้แตกต่างจาก Example 2  อย่างไร"
   ]
  },
  {
   "cell_type": "markdown",
   "metadata": {},
   "source": [
    "---"
   ]
  },
  {
   "cell_type": "markdown",
   "metadata": {},
   "source": [
    "#### 3. การกำหนดทิศทางของ flow"
   ]
  },
  {
   "cell_type": "markdown",
   "metadata": {},
   "source": [
    "สร้าง code cell และเขียน code ภาษา mermaid ดังนี้\n",
    "> ```\n",
    "> flowchart TD\n",
    ">     Start --> Stop\n",
    "> ```"
   ]
  },
  {
   "cell_type": "code",
   "execution_count": null,
   "metadata": {
    "dotnet_interactive": {
     "language": "mermaid"
    },
    "polyglot_notebook": {
     "kernelName": "mermaid"
    }
   },
   "outputs": [],
   "source": [
    "พื้นที่เขียน code"
   ]
  },
  {
   "cell_type": "markdown",
   "metadata": {},
   "source": [
    "แก้ไข code ด้านบนดังนี้\n",
    "> ```diff\n",
    "> - flowchart TD\n",
    "> + flowchart LR\n",
    ">     Start --> Stop\n",
    "> ``` "
   ]
  },
  {
   "cell_type": "code",
   "execution_count": null,
   "metadata": {
    "dotnet_interactive": {
     "language": "mermaid"
    },
    "polyglot_notebook": {
     "kernelName": "mermaid"
    }
   },
   "outputs": [],
   "source": [
    "พื้นที่เขียน code"
   ]
  },
  {
   "cell_type": "markdown",
   "metadata": {},
   "source": [
    "___คำถาม___\n",
    "\n",
    "flowchart TD และ flowchart LR ให้ผลแตกต่างกันอย่างไร\n",
    " "
   ]
  },
  {
   "cell_type": "markdown",
   "metadata": {},
   "source": [
    "---"
   ]
  },
  {
   "cell_type": "markdown",
   "metadata": {},
   "source": [
    "#### 4. รูปร่างของ Node"
   ]
  },
  {
   "cell_type": "markdown",
   "metadata": {},
   "source": [
    "รัน code cell ต่อไปนี้"
   ]
  },
  {
   "cell_type": "code",
   "execution_count": null,
   "metadata": {
    "dotnet_interactive": {
     "language": "mermaid"
    },
    "polyglot_notebook": {
     "kernelName": "mermaid"
    }
   },
   "outputs": [],
   "source": [
    "flowchart LR\n",
    "    id1(This is the text in the box)"
   ]
  },
  {
   "cell_type": "markdown",
   "metadata": {},
   "source": [
    "อธิบายรูปร่างที่ได้"
   ]
  },
  {
   "cell_type": "markdown",
   "metadata": {},
   "source": [
    "แก้ไข code ด้านบน เป็นดังต่อไปนี้\n",
    "> ```diff\n",
    "> flowchart LR\n",
    "> -    id1(This is the text in the box)\n",
    "> +    d1([This is the text in the box])\n",
    "> ```"
   ]
  },
  {
   "cell_type": "code",
   "execution_count": null,
   "metadata": {
    "dotnet_interactive": {
     "language": "mermaid"
    },
    "polyglot_notebook": {
     "kernelName": "mermaid"
    }
   },
   "outputs": [
    {
     "data": {
      "text/html": [
       "<div class=\"mermaidMarkdownContainer\" style=\"background-color:white\">\r\n",
       "<link rel=\"stylesheet\" href=\"https://cdnjs.cloudflare.com/ajax/libs/font-awesome/6.2.0/css/all.min.css\">\r\n",
       "<div id=\"ab4a6f32c76f4846bf02509c79be391b\"></div>\r\n",
       "<script type=\"module\">\r\n",
       "\r\n",
       "            import mermaid from 'https://cdn.jsdelivr.net/npm/mermaid@10.6.1/dist/mermaid.esm.min.mjs';\r\n",
       "            let renderTarget = document.getElementById('ab4a6f32c76f4846bf02509c79be391b');\r\n",
       "            try {\r\n",
       "                const {svg, bindFunctions} = await mermaid.mermaidAPI.render( \r\n",
       "                    'mermaid_ab4a6f32c76f4846bf02509c79be391b', \r\n",
       "                    `พื้นที่เขียน code`);\r\n",
       "                renderTarget.innerHTML = svg;\r\n",
       "                bindFunctions?.(renderTarget);\r\n",
       "            }\r\n",
       "            catch (error) {\r\n",
       "                console.log(error);\r\n",
       "            }\r\n",
       "</script>\r\n",
       "</div>\r\n"
      ]
     },
     "metadata": {},
     "output_type": "display_data"
    }
   ],
   "source": [
    "พื้นที่เขียน code"
   ]
  },
  {
   "cell_type": "markdown",
   "metadata": {},
   "source": [
    "อธิบายรูปร่างที่ได้"
   ]
  },
  {
   "cell_type": "markdown",
   "metadata": {},
   "source": [
    "\n",
    "ให้สร้าง code cell แล้วนำ code จากตารางต่อไปนี้ไปวางใน code cell เหล่านั้น"
   ]
  },
  {
   "cell_type": "markdown",
   "metadata": {},
   "source": [
    "|รูปร่าง|เครื่องหมายที่ใช้|Code|\n",
    "|---|:---------:|---|\n",
    "|วงกลม| ((...))| flowchart LR<br><dd>id1((This is the text in the circle)) </dd>|\n",
    "|ทรงกระบอก| [(...)] |  flowchart LR <br> <dd>id1[(Database)]</dd>|\n",
    "|ป้ายกำกับ| >...]  |  flowchart LR <br> <dd>id1>This is the text in the box]</dd>|\n",
    "|การตัดสินใจ |{...} |  flowchart LR <br> <dd> id1{This is the text in the box} </dd>|\n",
    "|hexagon |{{...}} |  flowchart LR <br> <dd> {{This is the text in the box}} </dd>|\n",
    "| Parallelogram|[/.../] |  flowchart LR <br> <dd> id1[/This is the text in the box/]</dd>|\n",
    "| Parallelogram alt| [\\...\\]|  flowchart LR <br> <dd> id1[\\This is the text in the box\\]</dd>|\n",
    "|Trapezoid | [/...\\]|  flowchart LR <br> <dd>A[/Christmas\\]  </dd>|\n",
    "|Trapezoid alt | [\\.../]|  flowchart LR <br> <dd>B[\\Go shopping/]  </dd>|\n",
    "|Double circle| (((...)))|  flowchart LR <br> <dd> id1(((This is the text in the circle))) </dd>|  \n"
   ]
  },
  {
   "cell_type": "markdown",
   "metadata": {},
   "source": [
    "### ศึกษาเพิ่มเติม\n",
    "\n",
    "https://mermaid.js.org/syntax/flowchart.html"
   ]
  }
 ],
 "metadata": {
  "kernelspec": {
   "display_name": ".NET (C#)",
   "language": "C#",
   "name": ".net-csharp"
  },
  "polyglot_notebook": {
   "kernelInfo": {
    "defaultKernelName": "csharp",
    "items": [
     {
      "aliases": [],
      "languageName": "csharp",
      "name": "csharp"
     }
    ]
   }
  }
 },
 "nbformat": 4,
 "nbformat_minor": 2
}
